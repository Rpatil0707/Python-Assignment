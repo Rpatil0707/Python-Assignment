{
  "nbformat": 4,
  "nbformat_minor": 0,
  "metadata": {
    "colab": {
      "name": "PilotNavigationSystem.ipynb",
      "provenance": [],
      "collapsed_sections": []
    },
    "kernelspec": {
      "name": "python3",
      "display_name": "Python 3"
    },
    "language_info": {
      "name": "python"
    }
  },
  "cells": [
    {
      "cell_type": "code",
      "metadata": {
        "id": "nEn7GPpyvER9"
      },
      "source": [
        "#Plane Navigation System\n",
        "\n",
        "Altitude=int(input(\"Please Enter The Altitude:\"))\n",
        "if Altitude<=3000:\n",
        "  print(\"The Plane Is Safe For Landing.\")\n",
        "elif 3000<Altitude<6000:\n",
        "  print(\"For Safe Landing Of The Plane You Need To Attain The Altitude Of 3000ft Or Lower But You Can Try To Land At This Altitude.\")\n",
        "else:\n",
        "  print(\"Danger :Out Of Altitude Range. You Cannot Land The Plane At This Altitude. Please Go Around Until You Reach To Safer Altitude Range(<=3000) \")"
      ],
      "execution_count": null,
      "outputs": []
    }
  ]
}